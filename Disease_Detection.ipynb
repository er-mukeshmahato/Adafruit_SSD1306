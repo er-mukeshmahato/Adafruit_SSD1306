{
  "nbformat": 4,
  "nbformat_minor": 0,
  "metadata": {
    "colab": {
      "provenance": [],
      "gpuType": "T4",
      "include_colab_link": true
    },
    "kernelspec": {
      "name": "python3",
      "display_name": "Python 3"
    },
    "language_info": {
      "name": "python"
    },
    "accelerator": "GPU"
  },
  "cells": [
    {
      "cell_type": "markdown",
      "metadata": {
        "id": "view-in-github",
        "colab_type": "text"
      },
      "source": [
        "<a href=\"https://colab.research.google.com/github/er-mukeshmahato/Adafruit_SSD1306/blob/master/Disease_Detection.ipynb\" target=\"_parent\"><img src=\"https://colab.research.google.com/assets/colab-badge.svg\" alt=\"Open In Colab\"/></a>"
      ]
    },
    {
      "cell_type": "markdown",
      "source": [
        "# Step 1: Upload kaggle.json (your Kaggle API token)\n"
      ],
      "metadata": {
        "id": "0vtd5eR6kVbC"
      }
    },
    {
      "cell_type": "code",
      "execution_count": 15,
      "metadata": {
        "colab": {
          "base_uri": "https://localhost:8080/",
          "height": 90
        },
        "id": "LzcKnIAjiZvc",
        "outputId": "1f2bbd20-c45e-49bf-d38f-8a3d05680c43"
      },
      "outputs": [
        {
          "output_type": "display_data",
          "data": {
            "text/plain": [
              "<IPython.core.display.HTML object>"
            ],
            "text/html": [
              "\n",
              "     <input type=\"file\" id=\"files-25214133-ca1d-43d5-9a4b-410570c1c3bf\" name=\"files[]\" multiple disabled\n",
              "        style=\"border:none\" />\n",
              "     <output id=\"result-25214133-ca1d-43d5-9a4b-410570c1c3bf\">\n",
              "      Upload widget is only available when the cell has been executed in the\n",
              "      current browser session. Please rerun this cell to enable.\n",
              "      </output>\n",
              "      <script>// Copyright 2017 Google LLC\n",
              "//\n",
              "// Licensed under the Apache License, Version 2.0 (the \"License\");\n",
              "// you may not use this file except in compliance with the License.\n",
              "// You may obtain a copy of the License at\n",
              "//\n",
              "//      http://www.apache.org/licenses/LICENSE-2.0\n",
              "//\n",
              "// Unless required by applicable law or agreed to in writing, software\n",
              "// distributed under the License is distributed on an \"AS IS\" BASIS,\n",
              "// WITHOUT WARRANTIES OR CONDITIONS OF ANY KIND, either express or implied.\n",
              "// See the License for the specific language governing permissions and\n",
              "// limitations under the License.\n",
              "\n",
              "/**\n",
              " * @fileoverview Helpers for google.colab Python module.\n",
              " */\n",
              "(function(scope) {\n",
              "function span(text, styleAttributes = {}) {\n",
              "  const element = document.createElement('span');\n",
              "  element.textContent = text;\n",
              "  for (const key of Object.keys(styleAttributes)) {\n",
              "    element.style[key] = styleAttributes[key];\n",
              "  }\n",
              "  return element;\n",
              "}\n",
              "\n",
              "// Max number of bytes which will be uploaded at a time.\n",
              "const MAX_PAYLOAD_SIZE = 100 * 1024;\n",
              "\n",
              "function _uploadFiles(inputId, outputId) {\n",
              "  const steps = uploadFilesStep(inputId, outputId);\n",
              "  const outputElement = document.getElementById(outputId);\n",
              "  // Cache steps on the outputElement to make it available for the next call\n",
              "  // to uploadFilesContinue from Python.\n",
              "  outputElement.steps = steps;\n",
              "\n",
              "  return _uploadFilesContinue(outputId);\n",
              "}\n",
              "\n",
              "// This is roughly an async generator (not supported in the browser yet),\n",
              "// where there are multiple asynchronous steps and the Python side is going\n",
              "// to poll for completion of each step.\n",
              "// This uses a Promise to block the python side on completion of each step,\n",
              "// then passes the result of the previous step as the input to the next step.\n",
              "function _uploadFilesContinue(outputId) {\n",
              "  const outputElement = document.getElementById(outputId);\n",
              "  const steps = outputElement.steps;\n",
              "\n",
              "  const next = steps.next(outputElement.lastPromiseValue);\n",
              "  return Promise.resolve(next.value.promise).then((value) => {\n",
              "    // Cache the last promise value to make it available to the next\n",
              "    // step of the generator.\n",
              "    outputElement.lastPromiseValue = value;\n",
              "    return next.value.response;\n",
              "  });\n",
              "}\n",
              "\n",
              "/**\n",
              " * Generator function which is called between each async step of the upload\n",
              " * process.\n",
              " * @param {string} inputId Element ID of the input file picker element.\n",
              " * @param {string} outputId Element ID of the output display.\n",
              " * @return {!Iterable<!Object>} Iterable of next steps.\n",
              " */\n",
              "function* uploadFilesStep(inputId, outputId) {\n",
              "  const inputElement = document.getElementById(inputId);\n",
              "  inputElement.disabled = false;\n",
              "\n",
              "  const outputElement = document.getElementById(outputId);\n",
              "  outputElement.innerHTML = '';\n",
              "\n",
              "  const pickedPromise = new Promise((resolve) => {\n",
              "    inputElement.addEventListener('change', (e) => {\n",
              "      resolve(e.target.files);\n",
              "    });\n",
              "  });\n",
              "\n",
              "  const cancel = document.createElement('button');\n",
              "  inputElement.parentElement.appendChild(cancel);\n",
              "  cancel.textContent = 'Cancel upload';\n",
              "  const cancelPromise = new Promise((resolve) => {\n",
              "    cancel.onclick = () => {\n",
              "      resolve(null);\n",
              "    };\n",
              "  });\n",
              "\n",
              "  // Wait for the user to pick the files.\n",
              "  const files = yield {\n",
              "    promise: Promise.race([pickedPromise, cancelPromise]),\n",
              "    response: {\n",
              "      action: 'starting',\n",
              "    }\n",
              "  };\n",
              "\n",
              "  cancel.remove();\n",
              "\n",
              "  // Disable the input element since further picks are not allowed.\n",
              "  inputElement.disabled = true;\n",
              "\n",
              "  if (!files) {\n",
              "    return {\n",
              "      response: {\n",
              "        action: 'complete',\n",
              "      }\n",
              "    };\n",
              "  }\n",
              "\n",
              "  for (const file of files) {\n",
              "    const li = document.createElement('li');\n",
              "    li.append(span(file.name, {fontWeight: 'bold'}));\n",
              "    li.append(span(\n",
              "        `(${file.type || 'n/a'}) - ${file.size} bytes, ` +\n",
              "        `last modified: ${\n",
              "            file.lastModifiedDate ? file.lastModifiedDate.toLocaleDateString() :\n",
              "                                    'n/a'} - `));\n",
              "    const percent = span('0% done');\n",
              "    li.appendChild(percent);\n",
              "\n",
              "    outputElement.appendChild(li);\n",
              "\n",
              "    const fileDataPromise = new Promise((resolve) => {\n",
              "      const reader = new FileReader();\n",
              "      reader.onload = (e) => {\n",
              "        resolve(e.target.result);\n",
              "      };\n",
              "      reader.readAsArrayBuffer(file);\n",
              "    });\n",
              "    // Wait for the data to be ready.\n",
              "    let fileData = yield {\n",
              "      promise: fileDataPromise,\n",
              "      response: {\n",
              "        action: 'continue',\n",
              "      }\n",
              "    };\n",
              "\n",
              "    // Use a chunked sending to avoid message size limits. See b/62115660.\n",
              "    let position = 0;\n",
              "    do {\n",
              "      const length = Math.min(fileData.byteLength - position, MAX_PAYLOAD_SIZE);\n",
              "      const chunk = new Uint8Array(fileData, position, length);\n",
              "      position += length;\n",
              "\n",
              "      const base64 = btoa(String.fromCharCode.apply(null, chunk));\n",
              "      yield {\n",
              "        response: {\n",
              "          action: 'append',\n",
              "          file: file.name,\n",
              "          data: base64,\n",
              "        },\n",
              "      };\n",
              "\n",
              "      let percentDone = fileData.byteLength === 0 ?\n",
              "          100 :\n",
              "          Math.round((position / fileData.byteLength) * 100);\n",
              "      percent.textContent = `${percentDone}% done`;\n",
              "\n",
              "    } while (position < fileData.byteLength);\n",
              "  }\n",
              "\n",
              "  // All done.\n",
              "  yield {\n",
              "    response: {\n",
              "      action: 'complete',\n",
              "    }\n",
              "  };\n",
              "}\n",
              "\n",
              "scope.google = scope.google || {};\n",
              "scope.google.colab = scope.google.colab || {};\n",
              "scope.google.colab._files = {\n",
              "  _uploadFiles,\n",
              "  _uploadFilesContinue,\n",
              "};\n",
              "})(self);\n",
              "</script> "
            ]
          },
          "metadata": {}
        },
        {
          "output_type": "stream",
          "name": "stdout",
          "text": [
            "Saving kaggle.json to kaggle.json\n"
          ]
        },
        {
          "output_type": "execute_result",
          "data": {
            "text/plain": [
              "{'kaggle.json': b'{\"username\":\"mukeshmahato1122\",\"key\":\"79e16915a31ef978d4ff90118f80a710\"}'}"
            ]
          },
          "metadata": {},
          "execution_count": 15
        }
      ],
      "source": [
        "from google.colab import files\n",
        "files.upload()  # Upload kaggle.json file here when prompted"
      ]
    },
    {
      "cell_type": "markdown",
      "source": [
        "# Step 2: Setup Kaggle credentials and install kaggle CLI"
      ],
      "metadata": {
        "id": "QySDd0IJkZ6K"
      }
    },
    {
      "cell_type": "code",
      "source": [
        "import os\n",
        "import shutil\n",
        "\n",
        "# Setup kaggle credentials\n",
        "os.makedirs(\"/root/.kaggle\", exist_ok=True)\n",
        "shutil.move(\"kaggle.json\", \"/root/.kaggle/kaggle.json\")\n",
        "os.chmod(\"/root/.kaggle/kaggle.json\", 600)"
      ],
      "metadata": {
        "id": "nc4l3tYsimrk"
      },
      "execution_count": 16,
      "outputs": []
    },
    {
      "cell_type": "markdown",
      "source": [
        "# Step 3: Download dataset from Kaggle"
      ],
      "metadata": {
        "id": "Mbinj4fEkgJn"
      }
    },
    {
      "cell_type": "code",
      "source": [
        "\n",
        "!kaggle datasets download -d pranavgautam29/chest-x-ray-imagesmultiple-diseases\n",
        "\n"
      ],
      "metadata": {
        "colab": {
          "base_uri": "https://localhost:8080/"
        },
        "id": "vGW1Y-pJjXzJ",
        "outputId": "1c277cd0-384c-4759-ef4d-5d7277189fa2"
      },
      "execution_count": 17,
      "outputs": [
        {
          "output_type": "stream",
          "name": "stdout",
          "text": [
            "Dataset URL: https://www.kaggle.com/datasets/pranavgautam29/chest-x-ray-imagesmultiple-diseases\n",
            "License(s): apache-2.0\n",
            "chest-x-ray-imagesmultiple-diseases.zip: Skipping, found more recently modified local copy (use --force to force download)\n"
          ]
        }
      ]
    },
    {
      "cell_type": "markdown",
      "source": [
        "# Step 4: Verify and unzip the dataset"
      ],
      "metadata": {
        "id": "o-_FVDgdkspu"
      }
    },
    {
      "cell_type": "code",
      "source": [
        "\n",
        "!unzip -o -q /content/chest-x-ray-imagesmultiple-diseases.zip -d /content/data\n"
      ],
      "metadata": {
        "id": "aroYPgvmjqSY"
      },
      "execution_count": 18,
      "outputs": []
    },
    {
      "cell_type": "markdown",
      "source": [
        "# Step 5: Import libraries and set parameters"
      ],
      "metadata": {
        "id": "Qkp_DrnykzX3"
      }
    },
    {
      "cell_type": "code",
      "source": [
        "import tensorflow as tf\n",
        "from tensorflow.keras import layers, models, regularizers, callbacks\n",
        "from tensorflow.keras.applications import DenseNet121\n",
        "from tensorflow.keras.optimizers import Adam\n",
        "import numpy as np\n",
        "from collections import Counter\n",
        "import matplotlib.pyplot as plt\n",
        "\n",
        "data_dir = \"/content/data/data\"  # your dataset folder\n",
        "batch_size = 32\n",
        "img_height = 224\n",
        "img_width = 224\n",
        "epochs_initial = 10\n",
        "epochs_finetune = 40\n"
      ],
      "metadata": {
        "id": "XlRRrZDEjxrM"
      },
      "execution_count": 19,
      "outputs": []
    },
    {
      "cell_type": "markdown",
      "source": [
        "# Step 6: Load dataset with training and validation splits"
      ],
      "metadata": {
        "id": "pLwfQYNYk53b"
      }
    },
    {
      "cell_type": "code",
      "source": [
        "train_ds = tf.keras.utils.image_dataset_from_directory(\n",
        "    data_dir,\n",
        "    validation_split=0.2,\n",
        "    subset=\"training\",\n",
        "    seed=123,\n",
        "    image_size=(img_height, img_width),\n",
        "    batch_size=batch_size\n",
        ")\n",
        "\n",
        "val_ds = tf.keras.utils.image_dataset_from_directory(\n",
        "    data_dir,\n",
        "    validation_split=0.2,\n",
        "    subset=\"validation\",\n",
        "    seed=123,\n",
        "    image_size=(img_height, img_width),\n",
        "    batch_size=batch_size\n",
        ")\n",
        "\n",
        "class_names = train_ds.class_names\n",
        "num_classes = len(class_names)\n",
        "print(\"Classes found:\", class_names)"
      ],
      "metadata": {
        "colab": {
          "base_uri": "https://localhost:8080/"
        },
        "id": "fbUgYENQj4lL",
        "outputId": "73974b35-d289-4461-cd6d-bcbe30a16792"
      },
      "execution_count": 20,
      "outputs": [
        {
          "output_type": "stream",
          "name": "stdout",
          "text": [
            "Found 4452 files belonging to 5 classes.\n",
            "Using 3562 files for training.\n",
            "Found 4452 files belonging to 5 classes.\n",
            "Using 890 files for validation.\n",
            "Classes found: ['Covid', 'Normal', 'Pneumonia', 'Pneumothorax', 'Tuberculosis']\n"
          ]
        }
      ]
    },
    {
      "cell_type": "markdown",
      "source": [
        "# --------- Compute class weights ---------"
      ],
      "metadata": {
        "id": "SKrPhu5Q6tXh"
      }
    },
    {
      "cell_type": "code",
      "source": [
        "\n",
        "# Extract labels from training dataset\n",
        "train_labels = np.concatenate([y.numpy() for x, y in train_ds], axis=0)\n",
        "class_counts = Counter(train_labels)\n",
        "total = sum(class_counts.values())\n",
        "class_weight = {cls: total / (num_classes * count) for cls, count in class_counts.items()}\n",
        "print(\"Class weights:\", class_weight)\n"
      ],
      "metadata": {
        "id": "pp1F-SSI6sfi",
        "outputId": "d0da3193-a72c-4b77-b589-219e80c52c8a",
        "colab": {
          "base_uri": "https://localhost:8080/"
        }
      },
      "execution_count": 21,
      "outputs": [
        {
          "output_type": "stream",
          "name": "stdout",
          "text": [
            "Class weights: {np.int32(3): 0.880593325092707, np.int32(1): 0.7915555555555556, np.int32(4): 1.3047619047619048, np.int32(0): 2.3055016181229773, np.int32(2): 0.7138276553106212}\n"
          ]
        }
      ]
    },
    {
      "cell_type": "code",
      "source": [
        "# Step 7: Define data augmentation and prepare datasets"
      ],
      "metadata": {
        "id": "zqVjiahilL4Y"
      },
      "execution_count": 22,
      "outputs": []
    },
    {
      "cell_type": "code",
      "source": [
        "data_augmentation = tf.keras.Sequential([\n",
        "    layers.RandomFlip(\"horizontal\"),\n",
        "    layers.RandomRotation(0.3),            # wider rotation range\n",
        "    layers.RandomZoom(0.3),                # zoom in/out\n",
        "    layers.RandomContrast(0.2),            # contrast change\n",
        "    layers.RandomTranslation(0.2, 0.2),    # shift images horizontally and vertically\n",
        "    layers.RandomBrightness(0.2),          # brightness jitter\n",
        "    layers.GaussianNoise(0.05)             # small noise injection\n",
        "])\n",
        "\n",
        "# --------- Prepare datasets for performance ---------\n",
        "AUTOTUNE = tf.data.AUTOTUNE\n",
        "train_ds = train_ds.cache().shuffle(1000).prefetch(buffer_size=AUTOTUNE)\n",
        "val_ds = val_ds.cache().prefetch(buffer_size=AUTOTUNE)\n"
      ],
      "metadata": {
        "id": "O45c2dtZi6iG"
      },
      "execution_count": 23,
      "outputs": []
    },
    {
      "cell_type": "markdown",
      "source": [
        "# Step 8: Build model using densenet with transfer learning"
      ],
      "metadata": {
        "id": "dWvZ8JSQlQob"
      }
    },
    {
      "cell_type": "code",
      "source": [
        "AUTOTUNE = tf.data.AUTOTUNE\n",
        "train_ds = train_ds.cache().shuffle(1000).prefetch(buffer_size=AUTOTUNE)\n",
        "val_ds = val_ds.cache().prefetch(buffer_size=AUTOTUNE)\n",
        "\n",
        "# --------- Build model ---------\n",
        "inputs = layers.Input(shape=(img_height, img_width, 3))\n",
        "x = data_augmentation(inputs)\n",
        "x = tf.keras.applications.densenet.preprocess_input(x)\n",
        "base_model = DenseNet121(weights='imagenet', include_top=False, input_tensor=x)\n",
        "\n",
        "base_model.trainable = False  # freeze base model initially\n",
        "\n",
        "x = layers.GlobalAveragePooling2D()(base_model.output)\n",
        "x = layers.Dropout(0.5)(x)\n",
        "outputs = layers.Dense(num_classes, activation='softmax',\n",
        "                       kernel_regularizer=regularizers.l2(1e-4))(x)\n",
        "\n",
        "model = models.Model(inputs, outputs)\n",
        "\n",
        "model.compile(\n",
        "    optimizer=Adam(learning_rate=1e-3),\n",
        "    loss='sparse_categorical_crossentropy',\n",
        "    metrics=['accuracy']\n",
        ")"
      ],
      "metadata": {
        "id": "_4gsUnmNlUpG"
      },
      "execution_count": 24,
      "outputs": []
    },
    {
      "cell_type": "markdown",
      "source": [
        "# Step 9: Define callbacks\n"
      ],
      "metadata": {
        "id": "jSJ-YM-lhf4y"
      }
    },
    {
      "cell_type": "code",
      "source": [
        "checkpoint_path = \"best_model.keras\"\n",
        "cb = [\n",
        "    callbacks.ModelCheckpoint(checkpoint_path, save_best_only=True, monitor='val_loss', verbose=1),\n",
        "    callbacks.EarlyStopping(monitor='val_loss', patience=5, restore_best_weights=True, verbose=1),\n",
        "    callbacks.ReduceLROnPlateau(monitor='val_loss', factor=0.5, patience=3, min_lr=1e-7, verbose=1)\n",
        "]"
      ],
      "metadata": {
        "id": "y0_BNhwUhesZ"
      },
      "execution_count": 25,
      "outputs": []
    },
    {
      "cell_type": "markdown",
      "source": [
        "# Step 10: Initial training\n",
        "\n"
      ],
      "metadata": {
        "id": "pcantiVblZSY"
      }
    },
    {
      "cell_type": "code",
      "source": [
        "history_initial = model.fit(\n",
        "    train_ds,\n",
        "    validation_data=val_ds,\n",
        "    epochs=epochs_initial,\n",
        "    callbacks=cb,\n",
        "    class_weight=class_weight\n",
        ")"
      ],
      "metadata": {
        "colab": {
          "base_uri": "https://localhost:8080/"
        },
        "id": "xNZY-yDNley2",
        "outputId": "bccd443d-289b-4009-c585-1708e269c9ee"
      },
      "execution_count": 26,
      "outputs": [
        {
          "metadata": {
            "tags": null
          },
          "name": "stdout",
          "output_type": "stream",
          "text": [
            "Epoch 1/10\n",
            "\u001b[1m112/112\u001b[0m \u001b[32m━━━━━━━━━━━━━━━━━━━━\u001b[0m\u001b[37m\u001b[0m \u001b[1m0s\u001b[0m 151ms/step - accuracy: 0.2800 - loss: 2.0022\n",
            "Epoch 1: val_loss improved from inf to 0.95830, saving model to best_model.keras\n",
            "\u001b[1m112/112\u001b[0m \u001b[32m━━━━━━━━━━━━━━━━━━━━\u001b[0m\u001b[37m\u001b[0m \u001b[1m63s\u001b[0m 259ms/step - accuracy: 0.2808 - loss: 1.9996 - val_accuracy: 0.6090 - val_loss: 0.9583 - learning_rate: 0.0010\n",
            "Epoch 2/10\n",
            "\u001b[1m112/112\u001b[0m \u001b[32m━━━━━━━━━━━━━━━━━━━━\u001b[0m\u001b[37m\u001b[0m \u001b[1m0s\u001b[0m 147ms/step - accuracy: 0.5458 - loss: 1.1790\n",
            "Epoch 2: val_loss improved from 0.95830 to 0.78293, saving model to best_model.keras\n",
            "\u001b[1m112/112\u001b[0m \u001b[32m━━━━━━━━━━━━━━━━━━━━\u001b[0m\u001b[37m\u001b[0m \u001b[1m23s\u001b[0m 206ms/step - accuracy: 0.5460 - loss: 1.1784 - val_accuracy: 0.6742 - val_loss: 0.7829 - learning_rate: 0.0010\n",
            "Epoch 3/10\n",
            "\u001b[1m112/112\u001b[0m \u001b[32m━━━━━━━━━━━━━━━━━━━━\u001b[0m\u001b[37m\u001b[0m \u001b[1m0s\u001b[0m 145ms/step - accuracy: 0.5919 - loss: 1.0311\n",
            "Epoch 3: val_loss improved from 0.78293 to 0.69327, saving model to best_model.keras\n",
            "\u001b[1m112/112\u001b[0m \u001b[32m━━━━━━━━━━━━━━━━━━━━\u001b[0m\u001b[37m\u001b[0m \u001b[1m39s\u001b[0m 192ms/step - accuracy: 0.5920 - loss: 1.0306 - val_accuracy: 0.7191 - val_loss: 0.6933 - learning_rate: 0.0010\n",
            "Epoch 4/10\n",
            "\u001b[1m112/112\u001b[0m \u001b[32m━━━━━━━━━━━━━━━━━━━━\u001b[0m\u001b[37m\u001b[0m \u001b[1m0s\u001b[0m 149ms/step - accuracy: 0.6254 - loss: 0.9444\n",
            "Epoch 4: val_loss improved from 0.69327 to 0.66085, saving model to best_model.keras\n",
            "\u001b[1m112/112\u001b[0m \u001b[32m━━━━━━━━━━━━━━━━━━━━\u001b[0m\u001b[37m\u001b[0m \u001b[1m41s\u001b[0m 196ms/step - accuracy: 0.6256 - loss: 0.9439 - val_accuracy: 0.7427 - val_loss: 0.6609 - learning_rate: 0.0010\n",
            "Epoch 5/10\n",
            "\u001b[1m112/112\u001b[0m \u001b[32m━━━━━━━━━━━━━━━━━━━━\u001b[0m\u001b[37m\u001b[0m \u001b[1m0s\u001b[0m 149ms/step - accuracy: 0.6689 - loss: 0.8455\n",
            "Epoch 5: val_loss improved from 0.66085 to 0.64861, saving model to best_model.keras\n",
            "\u001b[1m112/112\u001b[0m \u001b[32m━━━━━━━━━━━━━━━━━━━━\u001b[0m\u001b[37m\u001b[0m \u001b[1m22s\u001b[0m 201ms/step - accuracy: 0.6689 - loss: 0.8456 - val_accuracy: 0.7551 - val_loss: 0.6486 - learning_rate: 0.0010\n",
            "Epoch 6/10\n",
            "\u001b[1m112/112\u001b[0m \u001b[32m━━━━━━━━━━━━━━━━━━━━\u001b[0m\u001b[37m\u001b[0m \u001b[1m0s\u001b[0m 145ms/step - accuracy: 0.6773 - loss: 0.7976\n",
            "Epoch 6: val_loss improved from 0.64861 to 0.64149, saving model to best_model.keras\n",
            "\u001b[1m112/112\u001b[0m \u001b[32m━━━━━━━━━━━━━━━━━━━━\u001b[0m\u001b[37m\u001b[0m \u001b[1m40s\u001b[0m 191ms/step - accuracy: 0.6774 - loss: 0.7976 - val_accuracy: 0.7652 - val_loss: 0.6415 - learning_rate: 0.0010\n",
            "Epoch 7/10\n",
            "\u001b[1m112/112\u001b[0m \u001b[32m━━━━━━━━━━━━━━━━━━━━\u001b[0m\u001b[37m\u001b[0m \u001b[1m0s\u001b[0m 150ms/step - accuracy: 0.6707 - loss: 0.8434\n",
            "Epoch 7: val_loss improved from 0.64149 to 0.62448, saving model to best_model.keras\n",
            "\u001b[1m112/112\u001b[0m \u001b[32m━━━━━━━━━━━━━━━━━━━━\u001b[0m\u001b[37m\u001b[0m \u001b[1m42s\u001b[0m 196ms/step - accuracy: 0.6709 - loss: 0.8432 - val_accuracy: 0.7517 - val_loss: 0.6245 - learning_rate: 0.0010\n",
            "Epoch 8/10\n",
            "\u001b[1m112/112\u001b[0m \u001b[32m━━━━━━━━━━━━━━━━━━━━\u001b[0m\u001b[37m\u001b[0m \u001b[1m0s\u001b[0m 146ms/step - accuracy: 0.6733 - loss: 0.8078\n",
            "Epoch 8: val_loss improved from 0.62448 to 0.61932, saving model to best_model.keras\n",
            "\u001b[1m112/112\u001b[0m \u001b[32m━━━━━━━━━━━━━━━━━━━━\u001b[0m\u001b[37m\u001b[0m \u001b[1m41s\u001b[0m 193ms/step - accuracy: 0.6734 - loss: 0.8076 - val_accuracy: 0.7573 - val_loss: 0.6193 - learning_rate: 0.0010\n",
            "Epoch 9/10\n",
            "\u001b[1m112/112\u001b[0m \u001b[32m━━━━━━━━━━━━━━━━━━━━\u001b[0m\u001b[37m\u001b[0m \u001b[1m0s\u001b[0m 149ms/step - accuracy: 0.6778 - loss: 0.8126\n",
            "Epoch 9: val_loss improved from 0.61932 to 0.58837, saving model to best_model.keras\n",
            "\u001b[1m112/112\u001b[0m \u001b[32m━━━━━━━━━━━━━━━━━━━━\u001b[0m\u001b[37m\u001b[0m \u001b[1m41s\u001b[0m 195ms/step - accuracy: 0.6780 - loss: 0.8124 - val_accuracy: 0.7663 - val_loss: 0.5884 - learning_rate: 0.0010\n",
            "Epoch 10/10\n",
            "\u001b[1m112/112\u001b[0m \u001b[32m━━━━━━━━━━━━━━━━━━━━\u001b[0m\u001b[37m\u001b[0m \u001b[1m0s\u001b[0m 148ms/step - accuracy: 0.7086 - loss: 0.7101\n",
            "Epoch 10: val_loss improved from 0.58837 to 0.58764, saving model to best_model.keras\n",
            "\u001b[1m112/112\u001b[0m \u001b[32m━━━━━━━━━━━━━━━━━━━━\u001b[0m\u001b[37m\u001b[0m \u001b[1m41s\u001b[0m 195ms/step - accuracy: 0.7085 - loss: 0.7105 - val_accuracy: 0.7596 - val_loss: 0.5876 - learning_rate: 0.0010\n",
            "Restoring model weights from the end of the best epoch: 10.\n"
          ]
        }
      ]
    },
    {
      "cell_type": "markdown",
      "source": [
        "# Step 11: Fine-tuning"
      ],
      "metadata": {
        "id": "2IdsXle8ljeZ"
      }
    },
    {
      "cell_type": "code",
      "source": [
        " # Unfreeze last 60 layers\n",
        "for layer in base_model.layers[-60:]:\n",
        "    layer.trainable = True\n",
        "\n",
        "model.compile(\n",
        "    optimizer=Adam(learning_rate=1e-5),\n",
        "    loss='sparse_categorical_crossentropy',\n",
        "    metrics=['accuracy']\n",
        ")\n",
        "\n",
        "history_finetune = model.fit(\n",
        "    train_ds,\n",
        "    validation_data=val_ds,\n",
        "    epochs=epochs_finetune,\n",
        "    callbacks=cb,\n",
        "    class_weight=class_weight\n",
        ")"
      ],
      "metadata": {
        "colab": {
          "base_uri": "https://localhost:8080/"
        },
        "id": "dPEV9_CRiBnS",
        "outputId": "ffa99d7f-4f3d-4e5d-d3e1-ff7b4034f44f"
      },
      "execution_count": 27,
      "outputs": [
        {
          "metadata": {
            "tags": null
          },
          "name": "stdout",
          "output_type": "stream",
          "text": [
            "Epoch 1/40\n",
            "\u001b[1m112/112\u001b[0m \u001b[32m━━━━━━━━━━━━━━━━━━━━\u001b[0m\u001b[37m\u001b[0m \u001b[1m0s\u001b[0m 168ms/step - accuracy: 0.2650 - loss: 2.3135\n",
            "Epoch 1: val_loss did not improve from 0.58764\n",
            "\u001b[1m112/112\u001b[0m \u001b[32m━━━━━━━━━━━━━━━━━━━━\u001b[0m\u001b[37m\u001b[0m \u001b[1m50s\u001b[0m 253ms/step - accuracy: 0.2652 - loss: 2.3121 - val_accuracy: 0.6596 - val_loss: 0.7912 - learning_rate: 1.0000e-05\n",
            "Epoch 2/40\n",
            "\u001b[1m112/112\u001b[0m \u001b[32m━━━━━━━━━━━━━━━━━━━━\u001b[0m\u001b[37m\u001b[0m \u001b[1m0s\u001b[0m 170ms/step - accuracy: 0.3797 - loss: 1.6582\n",
            "Epoch 2: val_loss did not improve from 0.58764\n",
            "\u001b[1m112/112\u001b[0m \u001b[32m━━━━━━━━━━━━━━━━━━━━\u001b[0m\u001b[37m\u001b[0m \u001b[1m23s\u001b[0m 205ms/step - accuracy: 0.3799 - loss: 1.6573 - val_accuracy: 0.6090 - val_loss: 0.9067 - learning_rate: 1.0000e-05\n",
            "Epoch 3/40\n",
            "\u001b[1m112/112\u001b[0m \u001b[32m━━━━━━━━━━━━━━━━━━━━\u001b[0m\u001b[37m\u001b[0m \u001b[1m0s\u001b[0m 166ms/step - accuracy: 0.4609 - loss: 1.3460\n",
            "Epoch 3: val_loss did not improve from 0.58764\n",
            "\u001b[1m112/112\u001b[0m \u001b[32m━━━━━━━━━━━━━━━━━━━━\u001b[0m\u001b[37m\u001b[0m \u001b[1m41s\u001b[0m 201ms/step - accuracy: 0.4612 - loss: 1.3451 - val_accuracy: 0.6551 - val_loss: 0.8193 - learning_rate: 1.0000e-05\n",
            "Epoch 4/40\n",
            "\u001b[1m112/112\u001b[0m \u001b[32m━━━━━━━━━━━━━━━━━━━━\u001b[0m\u001b[37m\u001b[0m \u001b[1m0s\u001b[0m 170ms/step - accuracy: 0.5607 - loss: 1.0490\n",
            "Epoch 4: val_loss did not improve from 0.58764\n",
            "\u001b[1m112/112\u001b[0m \u001b[32m━━━━━━━━━━━━━━━━━━━━\u001b[0m\u001b[37m\u001b[0m \u001b[1m42s\u001b[0m 207ms/step - accuracy: 0.5608 - loss: 1.0488 - val_accuracy: 0.6899 - val_loss: 0.7104 - learning_rate: 1.0000e-05\n",
            "Epoch 5/40\n",
            "\u001b[1m112/112\u001b[0m \u001b[32m━━━━━━━━━━━━━━━━━━━━\u001b[0m\u001b[37m\u001b[0m \u001b[1m0s\u001b[0m 167ms/step - accuracy: 0.5916 - loss: 0.9909\n",
            "Epoch 5: val_loss did not improve from 0.58764\n",
            "\u001b[1m112/112\u001b[0m \u001b[32m━━━━━━━━━━━━━━━━━━━━\u001b[0m\u001b[37m\u001b[0m \u001b[1m41s\u001b[0m 204ms/step - accuracy: 0.5919 - loss: 0.9904 - val_accuracy: 0.7438 - val_loss: 0.6395 - learning_rate: 1.0000e-05\n",
            "Epoch 6/40\n",
            "\u001b[1m112/112\u001b[0m \u001b[32m━━━━━━━━━━━━━━━━━━━━\u001b[0m\u001b[37m\u001b[0m \u001b[1m0s\u001b[0m 170ms/step - accuracy: 0.6369 - loss: 0.9113\n",
            "Epoch 6: val_loss improved from 0.58764 to 0.58678, saving model to best_model.keras\n",
            "\u001b[1m112/112\u001b[0m \u001b[32m━━━━━━━━━━━━━━━━━━━━\u001b[0m\u001b[37m\u001b[0m \u001b[1m43s\u001b[0m 227ms/step - accuracy: 0.6370 - loss: 0.9108 - val_accuracy: 0.7494 - val_loss: 0.5868 - learning_rate: 1.0000e-05\n",
            "Epoch 7/40\n",
            "\u001b[1m112/112\u001b[0m \u001b[32m━━━━━━━━━━━━━━━━━━━━\u001b[0m\u001b[37m\u001b[0m \u001b[1m0s\u001b[0m 168ms/step - accuracy: 0.6509 - loss: 0.8406\n",
            "Epoch 7: val_loss improved from 0.58678 to 0.55217, saving model to best_model.keras\n",
            "\u001b[1m112/112\u001b[0m \u001b[32m━━━━━━━━━━━━━━━━━━━━\u001b[0m\u001b[37m\u001b[0m \u001b[1m40s\u001b[0m 215ms/step - accuracy: 0.6511 - loss: 0.8403 - val_accuracy: 0.7742 - val_loss: 0.5522 - learning_rate: 1.0000e-05\n",
            "Epoch 8/40\n",
            "\u001b[1m112/112\u001b[0m \u001b[32m━━━━━━━━━━━━━━━━━━━━\u001b[0m\u001b[37m\u001b[0m \u001b[1m0s\u001b[0m 168ms/step - accuracy: 0.6527 - loss: 0.8627\n",
            "Epoch 8: val_loss improved from 0.55217 to 0.53375, saving model to best_model.keras\n",
            "\u001b[1m112/112\u001b[0m \u001b[32m━━━━━━━━━━━━━━━━━━━━\u001b[0m\u001b[37m\u001b[0m \u001b[1m41s\u001b[0m 216ms/step - accuracy: 0.6528 - loss: 0.8622 - val_accuracy: 0.7809 - val_loss: 0.5337 - learning_rate: 1.0000e-05\n",
            "Epoch 9/40\n",
            "\u001b[1m112/112\u001b[0m \u001b[32m━━━━━━━━━━━━━━━━━━━━\u001b[0m\u001b[37m\u001b[0m \u001b[1m0s\u001b[0m 171ms/step - accuracy: 0.6828 - loss: 0.7496\n",
            "Epoch 9: val_loss improved from 0.53375 to 0.51894, saving model to best_model.keras\n",
            "\u001b[1m112/112\u001b[0m \u001b[32m━━━━━━━━━━━━━━━━━━━━\u001b[0m\u001b[37m\u001b[0m \u001b[1m24s\u001b[0m 218ms/step - accuracy: 0.6828 - loss: 0.7495 - val_accuracy: 0.7843 - val_loss: 0.5189 - learning_rate: 1.0000e-05\n",
            "Epoch 10/40\n",
            "\u001b[1m112/112\u001b[0m \u001b[32m━━━━━━━━━━━━━━━━━━━━\u001b[0m\u001b[37m\u001b[0m \u001b[1m0s\u001b[0m 166ms/step - accuracy: 0.7025 - loss: 0.7392\n",
            "Epoch 10: val_loss improved from 0.51894 to 0.50688, saving model to best_model.keras\n",
            "\u001b[1m112/112\u001b[0m \u001b[32m━━━━━━━━━━━━━━━━━━━━\u001b[0m\u001b[37m\u001b[0m \u001b[1m40s\u001b[0m 212ms/step - accuracy: 0.7025 - loss: 0.7392 - val_accuracy: 0.7910 - val_loss: 0.5069 - learning_rate: 1.0000e-05\n",
            "Epoch 11/40\n",
            "\u001b[1m112/112\u001b[0m \u001b[32m━━━━━━━━━━━━━━━━━━━━\u001b[0m\u001b[37m\u001b[0m \u001b[1m0s\u001b[0m 171ms/step - accuracy: 0.7194 - loss: 0.7713\n",
            "Epoch 11: val_loss improved from 0.50688 to 0.50022, saving model to best_model.keras\n",
            "\u001b[1m112/112\u001b[0m \u001b[32m━━━━━━━━━━━━━━━━━━━━\u001b[0m\u001b[37m\u001b[0m \u001b[1m24s\u001b[0m 218ms/step - accuracy: 0.7194 - loss: 0.7708 - val_accuracy: 0.7966 - val_loss: 0.5002 - learning_rate: 1.0000e-05\n",
            "Epoch 12/40\n",
            "\u001b[1m112/112\u001b[0m \u001b[32m━━━━━━━━━━━━━━━━━━━━\u001b[0m\u001b[37m\u001b[0m \u001b[1m0s\u001b[0m 168ms/step - accuracy: 0.6973 - loss: 0.7721\n",
            "Epoch 12: val_loss improved from 0.50022 to 0.49335, saving model to best_model.keras\n",
            "\u001b[1m112/112\u001b[0m \u001b[32m━━━━━━━━━━━━━━━━━━━━\u001b[0m\u001b[37m\u001b[0m \u001b[1m24s\u001b[0m 214ms/step - accuracy: 0.6974 - loss: 0.7715 - val_accuracy: 0.7966 - val_loss: 0.4933 - learning_rate: 1.0000e-05\n",
            "Epoch 13/40\n",
            "\u001b[1m112/112\u001b[0m \u001b[32m━━━━━━━━━━━━━━━━━━━━\u001b[0m\u001b[37m\u001b[0m \u001b[1m0s\u001b[0m 168ms/step - accuracy: 0.7315 - loss: 0.6708\n",
            "Epoch 13: val_loss improved from 0.49335 to 0.48726, saving model to best_model.keras\n",
            "\u001b[1m112/112\u001b[0m \u001b[32m━━━━━━━━━━━━━━━━━━━━\u001b[0m\u001b[37m\u001b[0m \u001b[1m24s\u001b[0m 214ms/step - accuracy: 0.7315 - loss: 0.6710 - val_accuracy: 0.8045 - val_loss: 0.4873 - learning_rate: 1.0000e-05\n",
            "Epoch 14/40\n",
            "\u001b[1m112/112\u001b[0m \u001b[32m━━━━━━━━━━━━━━━━━━━━\u001b[0m\u001b[37m\u001b[0m \u001b[1m0s\u001b[0m 168ms/step - accuracy: 0.7233 - loss: 0.7014\n",
            "Epoch 14: val_loss improved from 0.48726 to 0.48223, saving model to best_model.keras\n",
            "\u001b[1m112/112\u001b[0m \u001b[32m━━━━━━━━━━━━━━━━━━━━\u001b[0m\u001b[37m\u001b[0m \u001b[1m24s\u001b[0m 214ms/step - accuracy: 0.7233 - loss: 0.7013 - val_accuracy: 0.8022 - val_loss: 0.4822 - learning_rate: 1.0000e-05\n",
            "Epoch 15/40\n",
            "\u001b[1m112/112\u001b[0m \u001b[32m━━━━━━━━━━━━━━━━━━━━\u001b[0m\u001b[37m\u001b[0m \u001b[1m0s\u001b[0m 168ms/step - accuracy: 0.7259 - loss: 0.6947\n",
            "Epoch 15: val_loss improved from 0.48223 to 0.47479, saving model to best_model.keras\n",
            "\u001b[1m112/112\u001b[0m \u001b[32m━━━━━━━━━━━━━━━━━━━━\u001b[0m\u001b[37m\u001b[0m \u001b[1m41s\u001b[0m 216ms/step - accuracy: 0.7259 - loss: 0.6949 - val_accuracy: 0.8067 - val_loss: 0.4748 - learning_rate: 1.0000e-05\n",
            "Epoch 16/40\n",
            "\u001b[1m112/112\u001b[0m \u001b[32m━━━━━━━━━━━━━━━━━━━━\u001b[0m\u001b[37m\u001b[0m \u001b[1m0s\u001b[0m 168ms/step - accuracy: 0.7302 - loss: 0.6846\n",
            "Epoch 16: val_loss improved from 0.47479 to 0.47142, saving model to best_model.keras\n",
            "\u001b[1m112/112\u001b[0m \u001b[32m━━━━━━━━━━━━━━━━━━━━\u001b[0m\u001b[37m\u001b[0m \u001b[1m41s\u001b[0m 215ms/step - accuracy: 0.7302 - loss: 0.6846 - val_accuracy: 0.8056 - val_loss: 0.4714 - learning_rate: 1.0000e-05\n",
            "Epoch 17/40\n",
            "\u001b[1m112/112\u001b[0m \u001b[32m━━━━━━━━━━━━━━━━━━━━\u001b[0m\u001b[37m\u001b[0m \u001b[1m0s\u001b[0m 168ms/step - accuracy: 0.7433 - loss: 0.6405\n",
            "Epoch 17: val_loss improved from 0.47142 to 0.46841, saving model to best_model.keras\n",
            "\u001b[1m112/112\u001b[0m \u001b[32m━━━━━━━━━━━━━━━━━━━━\u001b[0m\u001b[37m\u001b[0m \u001b[1m41s\u001b[0m 216ms/step - accuracy: 0.7433 - loss: 0.6406 - val_accuracy: 0.8056 - val_loss: 0.4684 - learning_rate: 1.0000e-05\n",
            "Epoch 18/40\n",
            "\u001b[1m112/112\u001b[0m \u001b[32m━━━━━━━━━━━━━━━━━━━━\u001b[0m\u001b[37m\u001b[0m \u001b[1m0s\u001b[0m 169ms/step - accuracy: 0.7127 - loss: 0.7094\n",
            "Epoch 18: val_loss improved from 0.46841 to 0.46394, saving model to best_model.keras\n",
            "\u001b[1m112/112\u001b[0m \u001b[32m━━━━━━━━━━━━━━━━━━━━\u001b[0m\u001b[37m\u001b[0m \u001b[1m41s\u001b[0m 216ms/step - accuracy: 0.7129 - loss: 0.7089 - val_accuracy: 0.8101 - val_loss: 0.4639 - learning_rate: 1.0000e-05\n",
            "Epoch 19/40\n",
            "\u001b[1m112/112\u001b[0m \u001b[32m━━━━━━━━━━━━━━━━━━━━\u001b[0m\u001b[37m\u001b[0m \u001b[1m0s\u001b[0m 168ms/step - accuracy: 0.7325 - loss: 0.6537\n",
            "Epoch 19: val_loss improved from 0.46394 to 0.45935, saving model to best_model.keras\n",
            "\u001b[1m112/112\u001b[0m \u001b[32m━━━━━━━━━━━━━━━━━━━━\u001b[0m\u001b[37m\u001b[0m \u001b[1m41s\u001b[0m 215ms/step - accuracy: 0.7326 - loss: 0.6538 - val_accuracy: 0.8112 - val_loss: 0.4594 - learning_rate: 1.0000e-05\n",
            "Epoch 20/40\n",
            "\u001b[1m112/112\u001b[0m \u001b[32m━━━━━━━━━━━━━━━━━━━━\u001b[0m\u001b[37m\u001b[0m \u001b[1m0s\u001b[0m 169ms/step - accuracy: 0.7372 - loss: 0.7233\n",
            "Epoch 20: val_loss improved from 0.45935 to 0.45726, saving model to best_model.keras\n",
            "\u001b[1m112/112\u001b[0m \u001b[32m━━━━━━━━━━━━━━━━━━━━\u001b[0m\u001b[37m\u001b[0m \u001b[1m24s\u001b[0m 216ms/step - accuracy: 0.7372 - loss: 0.7231 - val_accuracy: 0.8124 - val_loss: 0.4573 - learning_rate: 1.0000e-05\n",
            "Epoch 21/40\n",
            "\u001b[1m112/112\u001b[0m \u001b[32m━━━━━━━━━━━━━━━━━━━━\u001b[0m\u001b[37m\u001b[0m \u001b[1m0s\u001b[0m 166ms/step - accuracy: 0.7419 - loss: 0.6497\n",
            "Epoch 21: val_loss improved from 0.45726 to 0.45192, saving model to best_model.keras\n",
            "\u001b[1m112/112\u001b[0m \u001b[32m━━━━━━━━━━━━━━━━━━━━\u001b[0m\u001b[37m\u001b[0m \u001b[1m42s\u001b[0m 227ms/step - accuracy: 0.7420 - loss: 0.6496 - val_accuracy: 0.8135 - val_loss: 0.4519 - learning_rate: 1.0000e-05\n",
            "Epoch 22/40\n",
            "\u001b[1m112/112\u001b[0m \u001b[32m━━━━━━━━━━━━━━━━━━━━\u001b[0m\u001b[37m\u001b[0m \u001b[1m0s\u001b[0m 170ms/step - accuracy: 0.7394 - loss: 0.6256\n",
            "Epoch 22: val_loss improved from 0.45192 to 0.45027, saving model to best_model.keras\n",
            "\u001b[1m112/112\u001b[0m \u001b[32m━━━━━━━━━━━━━━━━━━━━\u001b[0m\u001b[37m\u001b[0m \u001b[1m40s\u001b[0m 217ms/step - accuracy: 0.7395 - loss: 0.6258 - val_accuracy: 0.8135 - val_loss: 0.4503 - learning_rate: 1.0000e-05\n",
            "Epoch 23/40\n",
            "\u001b[1m112/112\u001b[0m \u001b[32m━━━━━━━━━━━━━━━━━━━━\u001b[0m\u001b[37m\u001b[0m \u001b[1m0s\u001b[0m 168ms/step - accuracy: 0.7448 - loss: 0.6240\n",
            "Epoch 23: val_loss improved from 0.45027 to 0.44807, saving model to best_model.keras\n",
            "\u001b[1m112/112\u001b[0m \u001b[32m━━━━━━━━━━━━━━━━━━━━\u001b[0m\u001b[37m\u001b[0m \u001b[1m41s\u001b[0m 216ms/step - accuracy: 0.7447 - loss: 0.6241 - val_accuracy: 0.8112 - val_loss: 0.4481 - learning_rate: 1.0000e-05\n",
            "Epoch 24/40\n",
            "\u001b[1m112/112\u001b[0m \u001b[32m━━━━━━━━━━━━━━━━━━━━\u001b[0m\u001b[37m\u001b[0m \u001b[1m0s\u001b[0m 169ms/step - accuracy: 0.7419 - loss: 0.6485\n",
            "Epoch 24: val_loss improved from 0.44807 to 0.44516, saving model to best_model.keras\n",
            "\u001b[1m112/112\u001b[0m \u001b[32m━━━━━━━━━━━━━━━━━━━━\u001b[0m\u001b[37m\u001b[0m \u001b[1m41s\u001b[0m 216ms/step - accuracy: 0.7420 - loss: 0.6482 - val_accuracy: 0.8146 - val_loss: 0.4452 - learning_rate: 1.0000e-05\n",
            "Epoch 25/40\n",
            "\u001b[1m112/112\u001b[0m \u001b[32m━━━━━━━━━━━━━━━━━━━━\u001b[0m\u001b[37m\u001b[0m \u001b[1m0s\u001b[0m 168ms/step - accuracy: 0.7425 - loss: 0.6453\n",
            "Epoch 25: val_loss improved from 0.44516 to 0.44059, saving model to best_model.keras\n",
            "\u001b[1m112/112\u001b[0m \u001b[32m━━━━━━━━━━━━━━━━━━━━\u001b[0m\u001b[37m\u001b[0m \u001b[1m42s\u001b[0m 226ms/step - accuracy: 0.7425 - loss: 0.6451 - val_accuracy: 0.8225 - val_loss: 0.4406 - learning_rate: 1.0000e-05\n",
            "Epoch 26/40\n",
            "\u001b[1m112/112\u001b[0m \u001b[32m━━━━━━━━━━━━━━━━━━━━\u001b[0m\u001b[37m\u001b[0m \u001b[1m0s\u001b[0m 168ms/step - accuracy: 0.7680 - loss: 0.5854\n",
            "Epoch 26: val_loss improved from 0.44059 to 0.43853, saving model to best_model.keras\n",
            "\u001b[1m112/112\u001b[0m \u001b[32m━━━━━━━━━━━━━━━━━━━━\u001b[0m\u001b[37m\u001b[0m \u001b[1m41s\u001b[0m 227ms/step - accuracy: 0.7679 - loss: 0.5857 - val_accuracy: 0.8180 - val_loss: 0.4385 - learning_rate: 1.0000e-05\n",
            "Epoch 27/40\n",
            "\u001b[1m112/112\u001b[0m \u001b[32m━━━━━━━━━━━━━━━━━━━━\u001b[0m\u001b[37m\u001b[0m \u001b[1m0s\u001b[0m 168ms/step - accuracy: 0.7641 - loss: 0.6040\n",
            "Epoch 27: val_loss improved from 0.43853 to 0.43405, saving model to best_model.keras\n",
            "\u001b[1m112/112\u001b[0m \u001b[32m━━━━━━━━━━━━━━━━━━━━\u001b[0m\u001b[37m\u001b[0m \u001b[1m40s\u001b[0m 216ms/step - accuracy: 0.7640 - loss: 0.6043 - val_accuracy: 0.8236 - val_loss: 0.4340 - learning_rate: 1.0000e-05\n",
            "Epoch 28/40\n",
            "\u001b[1m112/112\u001b[0m \u001b[32m━━━━━━━━━━━━━━━━━━━━\u001b[0m\u001b[37m\u001b[0m \u001b[1m0s\u001b[0m 168ms/step - accuracy: 0.7588 - loss: 0.6007\n",
            "Epoch 28: val_loss improved from 0.43405 to 0.43272, saving model to best_model.keras\n",
            "\u001b[1m112/112\u001b[0m \u001b[32m━━━━━━━━━━━━━━━━━━━━\u001b[0m\u001b[37m\u001b[0m \u001b[1m42s\u001b[0m 227ms/step - accuracy: 0.7588 - loss: 0.6009 - val_accuracy: 0.8258 - val_loss: 0.4327 - learning_rate: 1.0000e-05\n",
            "Epoch 29/40\n",
            "\u001b[1m112/112\u001b[0m \u001b[32m━━━━━━━━━━━━━━━━━━━━\u001b[0m\u001b[37m\u001b[0m \u001b[1m0s\u001b[0m 168ms/step - accuracy: 0.7596 - loss: 0.5951\n",
            "Epoch 29: val_loss improved from 0.43272 to 0.43029, saving model to best_model.keras\n",
            "\u001b[1m112/112\u001b[0m \u001b[32m━━━━━━━━━━━━━━━━━━━━\u001b[0m\u001b[37m\u001b[0m \u001b[1m40s\u001b[0m 215ms/step - accuracy: 0.7597 - loss: 0.5954 - val_accuracy: 0.8258 - val_loss: 0.4303 - learning_rate: 1.0000e-05\n",
            "Epoch 30/40\n",
            "\u001b[1m112/112\u001b[0m \u001b[32m━━━━━━━━━━━━━━━━━━━━\u001b[0m\u001b[37m\u001b[0m \u001b[1m0s\u001b[0m 169ms/step - accuracy: 0.7521 - loss: 0.6185\n",
            "Epoch 30: val_loss improved from 0.43029 to 0.42847, saving model to best_model.keras\n",
            "\u001b[1m112/112\u001b[0m \u001b[32m━━━━━━━━━━━━━━━━━━━━\u001b[0m\u001b[37m\u001b[0m \u001b[1m41s\u001b[0m 216ms/step - accuracy: 0.7522 - loss: 0.6183 - val_accuracy: 0.8292 - val_loss: 0.4285 - learning_rate: 1.0000e-05\n",
            "Epoch 31/40\n",
            "\u001b[1m112/112\u001b[0m \u001b[32m━━━━━━━━━━━━━━━━━━━━\u001b[0m\u001b[37m\u001b[0m \u001b[1m0s\u001b[0m 168ms/step - accuracy: 0.7689 - loss: 0.5979\n",
            "Epoch 31: val_loss improved from 0.42847 to 0.42459, saving model to best_model.keras\n",
            "\u001b[1m112/112\u001b[0m \u001b[32m━━━━━━━━━━━━━━━━━━━━\u001b[0m\u001b[37m\u001b[0m \u001b[1m41s\u001b[0m 216ms/step - accuracy: 0.7688 - loss: 0.5979 - val_accuracy: 0.8258 - val_loss: 0.4246 - learning_rate: 1.0000e-05\n",
            "Epoch 32/40\n",
            "\u001b[1m112/112\u001b[0m \u001b[32m━━━━━━━━━━━━━━━━━━━━\u001b[0m\u001b[37m\u001b[0m \u001b[1m0s\u001b[0m 169ms/step - accuracy: 0.7598 - loss: 0.6096\n",
            "Epoch 32: val_loss improved from 0.42459 to 0.42268, saving model to best_model.keras\n",
            "\u001b[1m112/112\u001b[0m \u001b[32m━━━━━━━━━━━━━━━━━━━━\u001b[0m\u001b[37m\u001b[0m \u001b[1m25s\u001b[0m 223ms/step - accuracy: 0.7598 - loss: 0.6095 - val_accuracy: 0.8292 - val_loss: 0.4227 - learning_rate: 1.0000e-05\n",
            "Epoch 33/40\n",
            "\u001b[1m112/112\u001b[0m \u001b[32m━━━━━━━━━━━━━━━━━━━━\u001b[0m\u001b[37m\u001b[0m \u001b[1m0s\u001b[0m 168ms/step - accuracy: 0.7756 - loss: 0.5727\n",
            "Epoch 33: val_loss improved from 0.42268 to 0.42134, saving model to best_model.keras\n",
            "\u001b[1m112/112\u001b[0m \u001b[32m━━━━━━━━━━━━━━━━━━━━\u001b[0m\u001b[37m\u001b[0m \u001b[1m40s\u001b[0m 217ms/step - accuracy: 0.7756 - loss: 0.5726 - val_accuracy: 0.8258 - val_loss: 0.4213 - learning_rate: 1.0000e-05\n",
            "Epoch 34/40\n",
            "\u001b[1m112/112\u001b[0m \u001b[32m━━━━━━━━━━━━━━━━━━━━\u001b[0m\u001b[37m\u001b[0m \u001b[1m0s\u001b[0m 170ms/step - accuracy: 0.7662 - loss: 0.6078\n",
            "Epoch 34: val_loss did not improve from 0.42134\n",
            "\u001b[1m112/112\u001b[0m \u001b[32m━━━━━━━━━━━━━━━━━━━━\u001b[0m\u001b[37m\u001b[0m \u001b[1m40s\u001b[0m 205ms/step - accuracy: 0.7663 - loss: 0.6076 - val_accuracy: 0.8303 - val_loss: 0.4215 - learning_rate: 1.0000e-05\n",
            "Epoch 35/40\n",
            "\u001b[1m112/112\u001b[0m \u001b[32m━━━━━━━━━━━━━━━━━━━━\u001b[0m\u001b[37m\u001b[0m \u001b[1m0s\u001b[0m 167ms/step - accuracy: 0.7753 - loss: 0.5817\n",
            "Epoch 35: val_loss improved from 0.42134 to 0.42042, saving model to best_model.keras\n",
            "\u001b[1m112/112\u001b[0m \u001b[32m━━━━━━━━━━━━━━━━━━━━\u001b[0m\u001b[37m\u001b[0m \u001b[1m42s\u001b[0m 218ms/step - accuracy: 0.7752 - loss: 0.5818 - val_accuracy: 0.8360 - val_loss: 0.4204 - learning_rate: 1.0000e-05\n",
            "Epoch 36/40\n",
            "\u001b[1m112/112\u001b[0m \u001b[32m━━━━━━━━━━━━━━━━━━━━\u001b[0m\u001b[37m\u001b[0m \u001b[1m0s\u001b[0m 169ms/step - accuracy: 0.7713 - loss: 0.6038\n",
            "Epoch 36: val_loss improved from 0.42042 to 0.41700, saving model to best_model.keras\n",
            "\u001b[1m112/112\u001b[0m \u001b[32m━━━━━━━━━━━━━━━━━━━━\u001b[0m\u001b[37m\u001b[0m \u001b[1m41s\u001b[0m 216ms/step - accuracy: 0.7712 - loss: 0.6039 - val_accuracy: 0.8360 - val_loss: 0.4170 - learning_rate: 1.0000e-05\n",
            "Epoch 37/40\n",
            "\u001b[1m112/112\u001b[0m \u001b[32m━━━━━━━━━━━━━━━━━━━━\u001b[0m\u001b[37m\u001b[0m \u001b[1m0s\u001b[0m 168ms/step - accuracy: 0.7717 - loss: 0.5890\n",
            "Epoch 37: val_loss improved from 0.41700 to 0.41479, saving model to best_model.keras\n",
            "\u001b[1m112/112\u001b[0m \u001b[32m━━━━━━━━━━━━━━━━━━━━\u001b[0m\u001b[37m\u001b[0m \u001b[1m42s\u001b[0m 226ms/step - accuracy: 0.7717 - loss: 0.5889 - val_accuracy: 0.8348 - val_loss: 0.4148 - learning_rate: 1.0000e-05\n",
            "Epoch 38/40\n",
            "\u001b[1m112/112\u001b[0m \u001b[32m━━━━━━━━━━━━━━━━━━━━\u001b[0m\u001b[37m\u001b[0m \u001b[1m0s\u001b[0m 168ms/step - accuracy: 0.7638 - loss: 0.5899\n",
            "Epoch 38: val_loss improved from 0.41479 to 0.41318, saving model to best_model.keras\n",
            "\u001b[1m112/112\u001b[0m \u001b[32m━━━━━━━━━━━━━━━━━━━━\u001b[0m\u001b[37m\u001b[0m \u001b[1m40s\u001b[0m 215ms/step - accuracy: 0.7639 - loss: 0.5897 - val_accuracy: 0.8360 - val_loss: 0.4132 - learning_rate: 1.0000e-05\n",
            "Epoch 39/40\n",
            "\u001b[1m112/112\u001b[0m \u001b[32m━━━━━━━━━━━━━━━━━━━━\u001b[0m\u001b[37m\u001b[0m \u001b[1m0s\u001b[0m 169ms/step - accuracy: 0.7656 - loss: 0.5722\n",
            "Epoch 39: val_loss improved from 0.41318 to 0.41148, saving model to best_model.keras\n",
            "\u001b[1m112/112\u001b[0m \u001b[32m━━━━━━━━━━━━━━━━━━━━\u001b[0m\u001b[37m\u001b[0m \u001b[1m24s\u001b[0m 215ms/step - accuracy: 0.7656 - loss: 0.5722 - val_accuracy: 0.8326 - val_loss: 0.4115 - learning_rate: 1.0000e-05\n",
            "Epoch 40/40\n",
            "\u001b[1m112/112\u001b[0m \u001b[32m━━━━━━━━━━━━━━━━━━━━\u001b[0m\u001b[37m\u001b[0m \u001b[1m0s\u001b[0m 167ms/step - accuracy: 0.7700 - loss: 0.5773\n",
            "Epoch 40: val_loss improved from 0.41148 to 0.40997, saving model to best_model.keras\n",
            "\u001b[1m112/112\u001b[0m \u001b[32m━━━━━━━━━━━━━━━━━━━━\u001b[0m\u001b[37m\u001b[0m \u001b[1m41s\u001b[0m 214ms/step - accuracy: 0.7700 - loss: 0.5772 - val_accuracy: 0.8337 - val_loss: 0.4100 - learning_rate: 1.0000e-05\n",
            "Restoring model weights from the end of the best epoch: 40.\n"
          ]
        }
      ]
    },
    {
      "cell_type": "markdown",
      "source": [
        "# Step 12: Save final model\n"
      ],
      "metadata": {
        "id": "ELmlmDgliGdN"
      }
    },
    {
      "cell_type": "code",
      "source": [
        "model.save(\"final_finetuned_model.keras\")\n",
        "print(\"Fine-tuned model saved.\")"
      ],
      "metadata": {
        "colab": {
          "base_uri": "https://localhost:8080/"
        },
        "id": "xLnxNDd9iOec",
        "outputId": "9dc8acfc-3d3e-4493-cb47-8dfe26ed1274"
      },
      "execution_count": 28,
      "outputs": [
        {
          "metadata": {
            "tags": null
          },
          "name": "stdout",
          "output_type": "stream",
          "text": [
            "Fine-tuned model saved.\n"
          ]
        }
      ]
    },
    {
      "cell_type": "markdown",
      "source": [
        "# Step 13: Plot training results"
      ],
      "metadata": {
        "id": "yrcwalxViPcg"
      }
    },
    {
      "cell_type": "code",
      "source": [
        "acc = history_initial.history['accuracy'] + history_finetune.history['accuracy']\n",
        "val_acc = history_initial.history['val_accuracy'] + history_finetune.history['val_accuracy']\n",
        "loss = history_initial.history['loss'] + history_finetune.history['loss']\n",
        "val_loss = history_initial.history['val_loss'] + history_finetune.history['val_loss']\n",
        "\n",
        "plt.figure(figsize=(12, 5))\n",
        "plt.subplot(1, 2, 1)\n",
        "plt.plot(acc, label='Train Accuracy')\n",
        "plt.plot(val_acc, label='Validation Accuracy')\n",
        "plt.xlabel('Epoch')\n",
        "plt.ylabel('Accuracy')\n",
        "plt.legend()\n",
        "\n",
        "plt.subplot(1, 2, 2)\n",
        "plt.plot(loss, label='Train Loss')\n",
        "plt.plot(val_loss, label='Validation Loss')\n",
        "plt.xlabel('Epoch')\n",
        "plt.ylabel('Loss')\n",
        "plt.legend()\n",
        "\n",
        "plt.show()"
      ],
      "metadata": {
        "colab": {
          "base_uri": "https://localhost:8080/",
          "height": 465
        },
        "id": "te96D4mGlj5Z",
        "outputId": "c00db9ac-7ef3-44a2-cd3a-1d81fc01bb83"
      },
      "execution_count": 29,
      "outputs": [
        {
          "data": {
            "image/png": "[encoded data removed]",
            "text/plain": [
              "<Figure size 1200x500 with 2 Axes>"
            ]
          },
          "metadata": {},
          "output_type": "display_data"
        }
      ]
    }
  ]
}